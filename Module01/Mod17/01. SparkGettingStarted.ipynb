{
 "cells": [
  {
   "cell_type": "markdown",
   "metadata": {},
   "source": [
    "<img src=\"uva_seal.png\">  "
   ]
  },
  {
   "cell_type": "markdown",
   "metadata": {},
   "source": [
    "## Spark Getting Started\n",
    "\n",
    "### University of Virginia\n",
    "### DS 5110: Big Data Systems\n",
    "### Last Updated: February 8, 2021\n",
    "\n",
    "---  \n",
    "\n",
    "\n",
    "### SOURCES\n",
    "Learning Spark, First Edition\n",
    "\n",
    "Chapter 1: Introduction to Data Analysis with Spark  \n",
    "Chapter 2: Getting Started\n",
    "\n",
    "### OBJECTIVES\n",
    "-  Spark background\n",
    "-  Setup and installation\n",
    "-  Basic concepts\n",
    "-  Minimal code examples\n",
    "-  Running Spark: Interactive Session\n",
    "-  Running Spark: Command Line\n",
    "\n",
    "### CONCEPTS\n",
    "\n",
    "- Cluster: a set of connected computers (nodes)\n",
    "\n",
    "- Functional programming\n",
    "\n",
    "- SparkSession - single point of entry to interact w Spark functionality\n",
    "\n",
    "- Resilient Distributed Datasets (RDDs) - Spark’s fundamental abstraction for distributed data and computation\n",
    "\n",
    "- Dataset\n",
    "\n",
    "- Driver Program - contains application main function, defines RDDs on cluster, applies operations to them.\n",
    "\n",
    "- Worker Node or Executor - the units that perform tasks\n",
    "\n",
    "---\n",
    "\n",
    "### Spark Background\n",
    "\n",
    "- Designed to be fast  \n",
    "no waiting around for hours, need to work interactively with data  \n",
    "\n",
    "\n",
    "- Designed to handle big data\n",
    "\n",
    "\n",
    "- General Purpose  \n",
    "Unlike Hadoop, several modules in one place: machine learning, queries, streaming, graph analytics\n",
    "\n",
    "\n",
    "- Caching is possible, so intermediate data can be stored in memory on workers\n",
    "\n",
    "\n",
    "- Highly accessible: simple APIs to Python, Java, Scala, R, SQL  \n",
    "Integrates w other Big Data tools such as Hadoop, Cassandra  \n",
    "Can access HDFS data, Amazon S3, and others\n",
    "\n",
    "\n",
    "**Documentation from README**  \n",
    "You can find the latest Spark documentation, including a programming\n",
    "guide, on the [project web page](http://spark.apache.org/documentation.html).\n",
    "\n",
    "For general development tips, including info on developing Spark using an IDE, see   \n",
    "[http://spark.apache.org/developer-tools.html](the Useful Developer Tools page).\n",
    "\n",
    "Spark also comes with several sample programs in the `examples` directory.  \n",
    "To run one of them in a shell, use `./bin/run-example <class> [params]`.  \n",
    "\n",
    "For example:"
   ]
  },
  {
   "cell_type": "markdown",
   "metadata": {},
   "source": [
    "`./bin/run-example SparkPi`"
   ]
  },
  {
   "cell_type": "markdown",
   "metadata": {},
   "source": [
    "will run the Pi example locally.\n",
    "\n",
    "**Install**  \n",
    "\n",
    "Page 9 provides step-by-step download and install instructions\n",
    "\n",
    "Depends:\n",
    "1. Python needs to be installed\n",
    "2. Java 6 or higher needs to be installed\n",
    "\n",
    "Change logging level (Page 12), change from: \n",
    "\n",
    "log4j.rootCategory=INFO  \n",
    "\n",
    "To  \n",
    "\n",
    "log4j.rootCategory=WARN  \n",
    "\n",
    "### Interactive Python shell\n",
    "\n",
    "From installed location and using ($) to denote prompt:\n"
   ]
  },
  {
   "cell_type": "markdown",
   "metadata": {},
   "source": [
    "`$ bin\\pyspark`"
   ]
  },
  {
   "cell_type": "markdown",
   "metadata": {},
   "source": [
    "Set up a minimal case Spark Session:\n",
    "- using the local machine as master\n",
    "- naming the app"
   ]
  },
  {
   "cell_type": "code",
   "execution_count": 1,
   "metadata": {},
   "outputs": [],
   "source": [
    "from pyspark.sql import SparkSession\n",
    "\n",
    "spark = SparkSession.builder \\\n",
    "        .master(\"local\") \\\n",
    "        .appName(\"pspark_test\") \\\n",
    "        .getOrCreate()"
   ]
  },
  {
   "cell_type": "code",
   "execution_count": 2,
   "metadata": {},
   "outputs": [
    {
     "data": {
      "text/html": [
       "\n",
       "            <div>\n",
       "                <p><b>SparkSession - in-memory</b></p>\n",
       "                \n",
       "        <div>\n",
       "            <p><b>SparkContext</b></p>\n",
       "\n",
       "            <p><a href=\"http://udc-ba27-18:4041\">Spark UI</a></p>\n",
       "\n",
       "            <dl>\n",
       "              <dt>Version</dt>\n",
       "                <dd><code>v3.0.1</code></dd>\n",
       "              <dt>Master</dt>\n",
       "                <dd><code>local</code></dd>\n",
       "              <dt>AppName</dt>\n",
       "                <dd><code>pspark_test</code></dd>\n",
       "            </dl>\n",
       "        </div>\n",
       "        \n",
       "            </div>\n",
       "        "
      ],
      "text/plain": [
       "<pyspark.sql.session.SparkSession at 0x7f7e2cb99d60>"
      ]
     },
     "execution_count": 2,
     "metadata": {},
     "output_type": "execute_result"
    }
   ],
   "source": [
    "# print info about the session\n",
    "spark"
   ]
  },
  {
   "cell_type": "code",
   "execution_count": 5,
   "metadata": {},
   "outputs": [],
   "source": [
    "sc = spark.sparkContext"
   ]
  },
  {
   "cell_type": "markdown",
   "metadata": {},
   "source": [
    "### RDDs (Resilient Distributed Datasets)\n",
    "\n",
    "RDDs are the most basic abstraction in Spark. They have these properties:\n",
    "\n",
    "- **resilient**: list of dependencies instructs Spark how the RDD is constructed from inputs.  \n",
    "  In the event the RDD is compromised, Spark can recreate it from dependencies.\n",
    "  \n",
    "- uses `partitions` for storing pieces of the data. Spark automatically partitions RDDs and distributes the partitions across nodes in the cluster.\n",
    "  \n",
    "- **distributed**: placing the partitions across nodes in the cluster allows for storing massive datasets that wouldn't fit on a single machine. \n",
    "\n",
    "**RDD History**\n",
    "\n",
    "Before Spark 2.0, the main programming interface of Spark was the *Resilient Distributed Dataset (RDD)*.  \n",
    "\n",
    "Starting with Spark 2.0, the *Dataset* and *DataFrame* objects were released. We discuss these later.\n",
    "\n",
    "The RDD interface is still supported  "
   ]
  },
  {
   "cell_type": "markdown",
   "metadata": {},
   "source": [
    "### Computing\n",
    "\n",
    "**Example 1: Read lines from text file**"
   ]
  },
  {
   "cell_type": "code",
   "execution_count": 11,
   "metadata": {},
   "outputs": [],
   "source": [
    "data_filename = 'README.txt'"
   ]
  },
  {
   "cell_type": "code",
   "execution_count": 12,
   "metadata": {},
   "outputs": [],
   "source": [
    "lines = sc.textFile(data_filename)"
   ]
  },
  {
   "cell_type": "code",
   "execution_count": 13,
   "metadata": {},
   "outputs": [
    {
     "data": {
      "text/plain": [
       "41"
      ]
     },
     "execution_count": 13,
     "metadata": {},
     "output_type": "execute_result"
    }
   ],
   "source": [
    "lines.count()"
   ]
  },
  {
   "cell_type": "code",
   "execution_count": 14,
   "metadata": {},
   "outputs": [
    {
     "data": {
      "text/plain": [
       "'Apache Spark'"
      ]
     },
     "execution_count": 14,
     "metadata": {},
     "output_type": "execute_result"
    }
   ],
   "source": [
    "lines.first()"
   ]
  },
  {
   "cell_type": "code",
   "execution_count": 15,
   "metadata": {},
   "outputs": [
    {
     "data": {
      "text/plain": [
       "['Apache Spark',\n",
       " 'Spark is a unified analytics engine for large-scale data processing. It provides high-level APIs in Scala, Java, Python, and R, and an optimized engine that supports general computation graphs for data analysis. It also supports a rich set of higher-level tools including Spark SQL for SQL and DataFrames, MLlib for machine learning, GraphX for graph processing, and Structured Streaming for stream processing.',\n",
       " '',\n",
       " 'https://spark.apache.org/',\n",
       " '',\n",
       " 'Jenkins Build AppVeyor Build PySpark Coverage',\n",
       " '',\n",
       " 'Online Documentation',\n",
       " 'You can find the latest Spark documentation, including a programming guide, on the project web page. This README file only contains basic setup instructions.',\n",
       " '',\n",
       " 'Building Spark',\n",
       " 'Spark is built using Apache Maven. To build Spark and its example programs, run:',\n",
       " '',\n",
       " './build/mvn -DskipTests clean package',\n",
       " '(You do not need to do this if you downloaded a pre-built package.)',\n",
       " '',\n",
       " 'You can build Spark using more than one thread by using the -T option with Maven, see \"Parallel builds in Maven 3\". More detailed documentation is available from the project site, at \"Building Spark\".',\n",
       " '',\n",
       " 'For general development tips, including info on developing Spark using an IDE, see \"Useful Developer Tools\".',\n",
       " '',\n",
       " 'Interactive Scala Shell',\n",
       " 'The easiest way to start using Spark is through the Scala shell:',\n",
       " '',\n",
       " './bin/spark-shell',\n",
       " 'Try the following command, which should return 1,000,000,000:',\n",
       " '',\n",
       " 'scala> spark.range(1000 * 1000 * 1000).count()',\n",
       " 'Interactive Python Shell',\n",
       " 'Alternatively, if you prefer Python, you can use the Python shell:',\n",
       " '',\n",
       " './bin/pyspark',\n",
       " 'And run the following command, which should also return 1,000,000,000:',\n",
       " '',\n",
       " '>>> spark.range(1000 * 1000 * 1000).count()',\n",
       " 'Example Programs',\n",
       " 'Spark also comes with several sample programs in the examples directory. To run one of them, use ./bin/run-example <class> [params]. For example:',\n",
       " '',\n",
       " './bin/run-example SparkPi',\n",
       " 'will run the Pi example locally.',\n",
       " '',\n",
       " 'You can set the MASTER environment variable when running examples to submit examples to a cluster. This can be a mesos:// or spark:// URL, \"yarn\" to run on YARN, and \"local\" to run locally with one thread, or \"local[N]\" to run locally with N threads. You can also use an abbreviated class name if the class is in the examples package. For instance:']"
      ]
     },
     "execution_count": 15,
     "metadata": {},
     "output_type": "execute_result"
    }
   ],
   "source": [
    "lines.collect()"
   ]
  },
  {
   "cell_type": "code",
   "execution_count": 16,
   "metadata": {},
   "outputs": [
    {
     "data": {
      "text/plain": [
       "list"
      ]
     },
     "execution_count": 16,
     "metadata": {},
     "output_type": "execute_result"
    }
   ],
   "source": [
    "type(lines.collect())"
   ]
  },
  {
   "cell_type": "code",
   "execution_count": 17,
   "metadata": {},
   "outputs": [
    {
     "data": {
      "text/plain": [
       "'Spark is a unified analytics engine for large-scale data processing. It provides high-level APIs in Scala, Java, Python, and R, and an optimized engine that supports general computation graphs for data analysis. It also supports a rich set of higher-level tools including Spark SQL for SQL and DataFrames, MLlib for machine learning, GraphX for graph processing, and Structured Streaming for stream processing.'"
      ]
     },
     "execution_count": 17,
     "metadata": {},
     "output_type": "execute_result"
    }
   ],
   "source": [
    "lines.collect()[1]"
   ]
  },
  {
   "cell_type": "code",
   "execution_count": 18,
   "metadata": {},
   "outputs": [
    {
     "data": {
      "text/plain": [
       "str"
      ]
     },
     "execution_count": 18,
     "metadata": {},
     "output_type": "execute_result"
    }
   ],
   "source": [
    "type(lines.collect()[0])"
   ]
  },
  {
   "cell_type": "markdown",
   "metadata": {},
   "source": [
    "**Example 2: Text Search  - print all lines containing “Spark”**"
   ]
  },
  {
   "cell_type": "code",
   "execution_count": 24,
   "metadata": {},
   "outputs": [],
   "source": [
    "spark_lines = lines.filter(lambda x: \"Spark\" in x)"
   ]
  },
  {
   "cell_type": "code",
   "execution_count": 25,
   "metadata": {},
   "outputs": [
    {
     "data": {
      "text/plain": [
       "['Apache Spark',\n",
       " 'Spark is a unified analytics engine for large-scale data processing. It provides high-level APIs in Scala, Java, Python, and R, and an optimized engine that supports general computation graphs for data analysis. It also supports a rich set of higher-level tools including Spark SQL for SQL and DataFrames, MLlib for machine learning, GraphX for graph processing, and Structured Streaming for stream processing.',\n",
       " 'Jenkins Build AppVeyor Build PySpark Coverage',\n",
       " 'You can find the latest Spark documentation, including a programming guide, on the project web page. This README file only contains basic setup instructions.',\n",
       " 'Building Spark']"
      ]
     },
     "execution_count": 25,
     "metadata": {},
     "output_type": "execute_result"
    }
   ],
   "source": [
    "# return list of first 5 records\n",
    "spark_lines.take(5)   "
   ]
  },
  {
   "cell_type": "code",
   "execution_count": 27,
   "metadata": {},
   "outputs": [
    {
     "data": {
      "text/plain": [
       "pyspark.rdd.PipelinedRDD"
      ]
     },
     "execution_count": 27,
     "metadata": {},
     "output_type": "execute_result"
    }
   ],
   "source": [
    "type(spark_lines)"
   ]
  },
  {
   "cell_type": "markdown",
   "metadata": {},
   "source": [
    "**Example 3: Word Count**"
   ]
  },
  {
   "cell_type": "code",
   "execution_count": null,
   "metadata": {},
   "outputs": [],
   "source": [
    "# Read the file into an RDD\n",
    "lines = sc.textFile(data_filename)"
   ]
  },
  {
   "cell_type": "code",
   "execution_count": null,
   "metadata": {},
   "outputs": [],
   "source": [
    "type(lines)"
   ]
  },
  {
   "cell_type": "code",
   "execution_count": null,
   "metadata": {},
   "outputs": [],
   "source": [
    "words = lines.flatMap(lambda x: x.split())"
   ]
  },
  {
   "cell_type": "code",
   "execution_count": null,
   "metadata": {},
   "outputs": [],
   "source": [
    "words.take(5)"
   ]
  },
  {
   "cell_type": "code",
   "execution_count": null,
   "metadata": {},
   "outputs": [],
   "source": [
    "wordcounts = words.map(lambda x: (x, 1)) \\\n",
    "                  .reduceByKey(lambda x,y:x+y) \\\n",
    "                  .map(lambda x:(x[1],x[0])) \\\n",
    "                  .sortByKey(False)"
   ]
  },
  {
   "cell_type": "code",
   "execution_count": null,
   "metadata": {},
   "outputs": [],
   "source": [
    "wordcounts.take(10)"
   ]
  },
  {
   "cell_type": "markdown",
   "metadata": {},
   "source": [
    "**TRY FOR YOURSELF (UNGRADED EXERCISES)**"
   ]
  },
  {
   "cell_type": "markdown",
   "metadata": {},
   "source": [
    "1) Convert the Word Count example into a function called `word_count()`.\n",
    "\n",
    "The function assumes you have already read in the text file into `lines`.  \n",
    "It should take two inputs: \n",
    "- `lines`  this is the RDD containing text\n",
    "- `num_records`  this is the number of wordcount pairs to return\n",
    "\n",
    "It should output a list of the `num_records` most frequent word count pairs.  \n",
    "Enter the code for `word_count()` in the cell below."
   ]
  },
  {
   "cell_type": "code",
   "execution_count": null,
   "metadata": {},
   "outputs": [],
   "source": [
    "## definition of word_count()\n"
   ]
  },
  {
   "cell_type": "markdown",
   "metadata": {},
   "source": [
    "Now test that `word_count()` returns the expected result.  \n",
    "Also insure that the output type is a list."
   ]
  },
  {
   "cell_type": "code",
   "execution_count": null,
   "metadata": {},
   "outputs": [],
   "source": [
    "## test function: word_count()\n",
    "## calling type(output) should return a list\n"
   ]
  },
  {
   "cell_type": "markdown",
   "metadata": {},
   "source": [
    "**SOLUTIONS**"
   ]
  },
  {
   "cell_type": "code",
   "execution_count": null,
   "metadata": {
    "jupyter": {
     "source_hidden": true
    }
   },
   "outputs": [],
   "source": [
    "def word_count(lines, num_records):\n",
    "    \n",
    "    wordcounts = lines.flatMap(lambda x: x.split()) \\\n",
    "                  .map(lambda x: (x, 1)) \\\n",
    "                  .reduceByKey(lambda x,y:x+y) \\\n",
    "                  .map(lambda x:(x[1],x[0])) \\\n",
    "                  .sortByKey(False)\n",
    "    \n",
    "    return(wordcounts.take(num_records))"
   ]
  },
  {
   "cell_type": "code",
   "execution_count": null,
   "metadata": {
    "jupyter": {
     "source_hidden": true
    }
   },
   "outputs": [],
   "source": [
    "out = word_count(lines, 10)\n",
    "out"
   ]
  },
  {
   "cell_type": "code",
   "execution_count": null,
   "metadata": {
    "jupyter": {
     "source_hidden": true
    }
   },
   "outputs": [],
   "source": [
    "type(out)"
   ]
  },
  {
   "cell_type": "code",
   "execution_count": null,
   "metadata": {},
   "outputs": [],
   "source": []
  }
 ],
 "metadata": {
  "anaconda-cloud": {},
  "kernelspec": {
   "display_name": "DS5559 Spark3",
   "language": "python",
   "name": "ds5559_spark3"
  },
  "language_info": {
   "codemirror_mode": {
    "name": "ipython",
    "version": 3
   },
   "file_extension": ".py",
   "mimetype": "text/x-python",
   "name": "python",
   "nbconvert_exporter": "python",
   "pygments_lexer": "ipython3",
   "version": "3.8.5"
  }
 },
 "nbformat": 4,
 "nbformat_minor": 4
}
